{
 "cells": [
  {
   "cell_type": "code",
   "execution_count": 1,
   "id": "fcdbd596-2ea4-4689-8fdb-aea58354bfe0",
   "metadata": {},
   "outputs": [
    {
     "name": "stderr",
     "output_type": "stream",
     "text": [
      "2023-01-19 16:20:09.059170: I tensorflow/core/platform/cpu_feature_guard.cc:193] This TensorFlow binary is optimized with oneAPI Deep Neural Network Library (oneDNN) to use the following CPU instructions in performance-critical operations:  AVX2 FMA\n",
      "To enable them in other operations, rebuild TensorFlow with the appropriate compiler flags.\n",
      "2023-01-19 16:20:09.411309: W tensorflow/compiler/xla/stream_executor/platform/default/dso_loader.cc:64] Could not load dynamic library 'libcudart.so.11.0'; dlerror: libcudart.so.11.0: cannot open shared object file: No such file or directory\n",
      "2023-01-19 16:20:09.411329: I tensorflow/compiler/xla/stream_executor/cuda/cudart_stub.cc:29] Ignore above cudart dlerror if you do not have a GPU set up on your machine.\n",
      "2023-01-19 16:20:10.443018: W tensorflow/compiler/xla/stream_executor/platform/default/dso_loader.cc:64] Could not load dynamic library 'libnvinfer.so.7'; dlerror: libnvinfer.so.7: cannot open shared object file: No such file or directory\n",
      "2023-01-19 16:20:10.443089: W tensorflow/compiler/xla/stream_executor/platform/default/dso_loader.cc:64] Could not load dynamic library 'libnvinfer_plugin.so.7'; dlerror: libnvinfer_plugin.so.7: cannot open shared object file: No such file or directory\n",
      "2023-01-19 16:20:10.443096: W tensorflow/compiler/tf2tensorrt/utils/py_utils.cc:38] TF-TRT Warning: Cannot dlopen some TensorRT libraries. If you would like to use Nvidia GPU with TensorRT, please make sure the missing libraries mentioned above are installed properly.\n"
     ]
    }
   ],
   "source": [
    "import numpy as np\n",
    "import matplotlib.pyplot as plt\n",
    "import seaborn as sns\n",
    "import pandas as pd\n",
    "from sklearn.model_selection import train_test_split\n",
    "from sklearn.metrics import ConfusionMatrixDisplay, classification_report\n",
    "import tensorflow as tf\n",
    "import keras_tuner as kt\n",
    "from tensorflow import keras\n",
    "from tensorflow.keras.layers import TextVectorization\n",
    "import time\n",
    "import sklearn"
   ]
  },
  {
   "cell_type": "markdown",
   "id": "0a1ba9c7-257c-4dba-a2d9-327ad2bc24ac",
   "metadata": {},
   "source": [
    "# Importo i dati in pandas"
   ]
  },
  {
   "cell_type": "code",
   "execution_count": 2,
   "id": "f1fffb79-9f4c-4b4d-92ec-b9cbec43560d",
   "metadata": {},
   "outputs": [],
   "source": [
    "df = pd.read_csv('WELFake_Dataset.csv')"
   ]
  },
  {
   "cell_type": "code",
   "execution_count": 3,
   "id": "62493101-ac4f-4b2b-856b-18ead3698b5c",
   "metadata": {},
   "outputs": [
    {
     "data": {
      "text/html": [
       "<div>\n",
       "<style scoped>\n",
       "    .dataframe tbody tr th:only-of-type {\n",
       "        vertical-align: middle;\n",
       "    }\n",
       "\n",
       "    .dataframe tbody tr th {\n",
       "        vertical-align: top;\n",
       "    }\n",
       "\n",
       "    .dataframe thead th {\n",
       "        text-align: right;\n",
       "    }\n",
       "</style>\n",
       "<table border=\"1\" class=\"dataframe\">\n",
       "  <thead>\n",
       "    <tr style=\"text-align: right;\">\n",
       "      <th></th>\n",
       "      <th>Unnamed: 0</th>\n",
       "      <th>title</th>\n",
       "      <th>text</th>\n",
       "      <th>label</th>\n",
       "    </tr>\n",
       "  </thead>\n",
       "  <tbody>\n",
       "    <tr>\n",
       "      <th>0</th>\n",
       "      <td>0</td>\n",
       "      <td>LAW ENFORCEMENT ON HIGH ALERT Following Threat...</td>\n",
       "      <td>No comment is expected from Barack Obama Membe...</td>\n",
       "      <td>1</td>\n",
       "    </tr>\n",
       "    <tr>\n",
       "      <th>1</th>\n",
       "      <td>1</td>\n",
       "      <td>NaN</td>\n",
       "      <td>Did they post their votes for Hillary already?</td>\n",
       "      <td>1</td>\n",
       "    </tr>\n",
       "    <tr>\n",
       "      <th>2</th>\n",
       "      <td>2</td>\n",
       "      <td>UNBELIEVABLE! OBAMA’S ATTORNEY GENERAL SAYS MO...</td>\n",
       "      <td>Now, most of the demonstrators gathered last ...</td>\n",
       "      <td>1</td>\n",
       "    </tr>\n",
       "    <tr>\n",
       "      <th>3</th>\n",
       "      <td>3</td>\n",
       "      <td>Bobby Jindal, raised Hindu, uses story of Chri...</td>\n",
       "      <td>A dozen politically active pastors came here f...</td>\n",
       "      <td>0</td>\n",
       "    </tr>\n",
       "    <tr>\n",
       "      <th>4</th>\n",
       "      <td>4</td>\n",
       "      <td>SATAN 2: Russia unvelis an image of its terrif...</td>\n",
       "      <td>The RS-28 Sarmat missile, dubbed Satan 2, will...</td>\n",
       "      <td>1</td>\n",
       "    </tr>\n",
       "  </tbody>\n",
       "</table>\n",
       "</div>"
      ],
      "text/plain": [
       "   Unnamed: 0                                              title  \\\n",
       "0           0  LAW ENFORCEMENT ON HIGH ALERT Following Threat...   \n",
       "1           1                                                NaN   \n",
       "2           2  UNBELIEVABLE! OBAMA’S ATTORNEY GENERAL SAYS MO...   \n",
       "3           3  Bobby Jindal, raised Hindu, uses story of Chri...   \n",
       "4           4  SATAN 2: Russia unvelis an image of its terrif...   \n",
       "\n",
       "                                                text  label  \n",
       "0  No comment is expected from Barack Obama Membe...      1  \n",
       "1     Did they post their votes for Hillary already?      1  \n",
       "2   Now, most of the demonstrators gathered last ...      1  \n",
       "3  A dozen politically active pastors came here f...      0  \n",
       "4  The RS-28 Sarmat missile, dubbed Satan 2, will...      1  "
      ]
     },
     "execution_count": 3,
     "metadata": {},
     "output_type": "execute_result"
    }
   ],
   "source": [
    "df.head()"
   ]
  },
  {
   "cell_type": "code",
   "execution_count": 4,
   "id": "1b27abc8-1fb1-4d23-910c-900ec8d069cb",
   "metadata": {},
   "outputs": [
    {
     "name": "stdout",
     "output_type": "stream",
     "text": [
      "<class 'pandas.core.frame.DataFrame'>\n",
      "RangeIndex: 72134 entries, 0 to 72133\n",
      "Data columns (total 4 columns):\n",
      " #   Column      Non-Null Count  Dtype \n",
      "---  ------      --------------  ----- \n",
      " 0   Unnamed: 0  72134 non-null  int64 \n",
      " 1   title       71576 non-null  object\n",
      " 2   text        72095 non-null  object\n",
      " 3   label       72134 non-null  int64 \n",
      "dtypes: int64(2), object(2)\n",
      "memory usage: 2.2+ MB\n"
     ]
    }
   ],
   "source": [
    "df.info()"
   ]
  },
  {
   "cell_type": "markdown",
   "id": "ed45c3c7-7538-496f-aa72-9fcfedc171b9",
   "metadata": {},
   "source": [
    "# Preparazione dei dati\n",
    "- riempimento dati mancanti con stringa vuota\n",
    "- concatenzione di titolo e testo per ottere separati da spazio\n",
    "- rimozione colonne inutilizzate (id, titolo, testo)\n",
    "- suddivisione dataframe in set di training e test"
   ]
  },
  {
   "cell_type": "code",
   "execution_count": 5,
   "id": "7271fba9-7c95-4e54-8ce0-a52bd0d9ad38",
   "metadata": {},
   "outputs": [],
   "source": [
    "df.fillna(value='', inplace=True)\n",
    "df['full-article'] = df['title']+' '+df['text']\n",
    "data=df.drop(['Unnamed: 0', 'title', 'text'], axis=1)\n",
    "X_train, X_test, y_train, y_test = train_test_split(data['full-article'], data['label'], test_size=0.20, random_state=42)"
   ]
  },
  {
   "cell_type": "markdown",
   "id": "b93ea457-3d61-4a43-bf5c-74a0491608c4",
   "metadata": {},
   "source": [
    "# Costruzione e addestamento modello di base"
   ]
  },
  {
   "cell_type": "code",
   "execution_count": 6,
   "id": "835f0542-c46f-4e17-a378-74d5929a22ff",
   "metadata": {},
   "outputs": [
    {
     "name": "stderr",
     "output_type": "stream",
     "text": [
      "2023-01-19 16:20:14.381996: E tensorflow/compiler/xla/stream_executor/cuda/cuda_driver.cc:267] failed call to cuInit: CUDA_ERROR_NO_DEVICE: no CUDA-capable device is detected\n",
      "2023-01-19 16:20:14.382056: I tensorflow/compiler/xla/stream_executor/cuda/cuda_diagnostics.cc:156] kernel driver does not appear to be running on this host (marco-pc): /proc/driver/nvidia/version does not exist\n",
      "2023-01-19 16:20:14.383785: I tensorflow/core/platform/cpu_feature_guard.cc:193] This TensorFlow binary is optimized with oneAPI Deep Neural Network Library (oneDNN) to use the following CPU instructions in performance-critical operations:  AVX2 FMA\n",
      "To enable them in other operations, rebuild TensorFlow with the appropriate compiler flags.\n"
     ]
    },
    {
     "name": "stdout",
     "output_type": "stream",
     "text": [
      "Epoch 1/10\n",
      "722/722 [==============================] - 7s 8ms/step - loss: 0.5015 - sparse_categorical_accuracy: 0.7637 - val_loss: 0.4558 - val_sparse_categorical_accuracy: 0.7948\n",
      "Epoch 2/10\n",
      "722/722 [==============================] - 5s 7ms/step - loss: 0.4411 - sparse_categorical_accuracy: 0.7984 - val_loss: 0.4379 - val_sparse_categorical_accuracy: 0.8012\n",
      "Epoch 3/10\n",
      "722/722 [==============================] - 5s 7ms/step - loss: 0.4248 - sparse_categorical_accuracy: 0.8055 - val_loss: 0.4251 - val_sparse_categorical_accuracy: 0.8088\n",
      "Epoch 4/10\n",
      "722/722 [==============================] - 5s 7ms/step - loss: 0.4132 - sparse_categorical_accuracy: 0.8098 - val_loss: 0.4152 - val_sparse_categorical_accuracy: 0.8086\n",
      "Epoch 5/10\n",
      "722/722 [==============================] - 5s 7ms/step - loss: 0.4075 - sparse_categorical_accuracy: 0.8126 - val_loss: 0.4159 - val_sparse_categorical_accuracy: 0.8060\n",
      "Epoch 6/10\n",
      "722/722 [==============================] - 5s 7ms/step - loss: 0.4033 - sparse_categorical_accuracy: 0.8140 - val_loss: 0.4106 - val_sparse_categorical_accuracy: 0.8097\n"
     ]
    }
   ],
   "source": [
    "max_features=50\n",
    "vectorize_layer=TextVectorization(max_tokens=max_features, output_mode='binary')\n",
    "vectorize_layer.adapt(X_train)\n",
    "\n",
    "model=tf.keras.Sequential()\n",
    "model.add(tf.keras.Input(shape=(), dtype=tf.string))\n",
    "model.add(vectorize_layer)\n",
    "model.add(tf.keras.layers.Dense(20, activation='relu', name='dense_1'))\n",
    "model.add(tf.keras.layers.Dense(2, activation='softmax', name='dense_2'))\n",
    "\n",
    "model.compile(optimizer='adam',\n",
    "            loss=tf.keras.losses.SparseCategoricalCrossentropy(),\n",
    "            metrics=tf.keras.metrics.SparseCategoricalAccuracy())\n",
    "\n",
    "callbacks=[\n",
    "    tf.keras.callbacks.EarlyStopping(\n",
    "        monitor='val_sparse_categorical_accuracy',\n",
    "        min_delta=0.01,\n",
    "        patience=3,\n",
    "        restore_best_weights=True\n",
    "    )\n",
    "]\n",
    "\n",
    "history=model.fit(\n",
    "    x=X_train, \n",
    "    y=y_train,\n",
    "    validation_split=0.2,\n",
    "    epochs=10,\n",
    "    callbacks=callbacks,\n",
    "    batch_size=64\n",
    ")"
   ]
  },
  {
   "cell_type": "markdown",
   "id": "04c7a840-630a-4c32-8502-3483e31085c4",
   "metadata": {},
   "source": [
    "## Salvo il modello per non dover ripetere ogni volta l'addestramento"
   ]
  },
  {
   "cell_type": "code",
   "execution_count": 7,
   "id": "cc2553f0-011a-42a2-8d1c-6e141f22f731",
   "metadata": {},
   "outputs": [
    {
     "name": "stderr",
     "output_type": "stream",
     "text": [
      "WARNING:absl:Found untraced functions such as _update_step_xla while saving (showing 1 of 1). These functions will not be directly callable after loading.\n"
     ]
    },
    {
     "name": "stdout",
     "output_type": "stream",
     "text": [
      "INFO:tensorflow:Assets written to: base_model.tf/assets\n"
     ]
    },
    {
     "name": "stderr",
     "output_type": "stream",
     "text": [
      "INFO:tensorflow:Assets written to: base_model.tf/assets\n"
     ]
    }
   ],
   "source": [
    "model.save('base_model.tf')\n",
    "base_model = keras.models.load_model('base_model.tf')"
   ]
  },
  {
   "cell_type": "code",
   "execution_count": 8,
   "id": "724f45e5-d054-4909-8ce4-28ff43639b7a",
   "metadata": {},
   "outputs": [
    {
     "name": "stdout",
     "output_type": "stream",
     "text": [
      "Model: \"sequential\"\n",
      "_________________________________________________________________\n",
      " Layer (type)                Output Shape              Param #   \n",
      "=================================================================\n",
      " text_vectorization (TextVec  (None, 50)               0         \n",
      " torization)                                                     \n",
      "                                                                 \n",
      " dense_1 (Dense)             (None, 20)                1020      \n",
      "                                                                 \n",
      " dense_2 (Dense)             (None, 2)                 42        \n",
      "                                                                 \n",
      "=================================================================\n",
      "Total params: 1,062\n",
      "Trainable params: 1,062\n",
      "Non-trainable params: 0\n",
      "_________________________________________________________________\n"
     ]
    }
   ],
   "source": [
    "base_model.summary()"
   ]
  },
  {
   "cell_type": "code",
   "execution_count": 9,
   "id": "8d6af1ab-ae7d-46d0-ac89-5f32ae40e098",
   "metadata": {},
   "outputs": [
    {
     "data": {
      "text/plain": [
       "<AxesSubplot: >"
      ]
     },
     "execution_count": 9,
     "metadata": {},
     "output_type": "execute_result"
    },
    {
     "data": {
      "image/png": "[encoded data removed]",
      "text/plain": [
       "<Figure size 504x504 with 1 Axes>"
      ]
     },
     "metadata": {
      "needs_background": "light"
     },
     "output_type": "display_data"
    }
   ],
   "source": [
    "fig, ax = plt.subplots(ncols = 1, nrows = 1, figsize  = (7, 7))\n",
    "ax.spines['right'].set_visible(False)\n",
    "ax.spines['top'].set_visible(False)\n",
    "ax.spines['bottom'].set_visible(False)\n",
    "ax.spines['left'].set_visible(False)\n",
    "ax.tick_params(axis='both', which='major', labelsize=12)\n",
    "sns.scatterplot(x=history.epoch ,y=history.history['sparse_categorical_accuracy'])\n",
    "sns.scatterplot(x=history.epoch ,y=history.history['val_sparse_categorical_accuracy'])"
   ]
  },
  {
   "cell_type": "markdown",
   "id": "699973e3-fc8f-466b-9df6-1a7ccaadc604",
   "metadata": {},
   "source": [
    "## Analisi prestazioni del modello di base sui dati di test\n",
    "\n",
    "- classification_report\n",
    "- matrice di confusione"
   ]
  },
  {
   "cell_type": "code",
   "execution_count": 10,
   "id": "d785f678-7e02-4009-b437-eadeb44f70ef",
   "metadata": {},
   "outputs": [
    {
     "name": "stdout",
     "output_type": "stream",
     "text": [
      "451/451 [==============================] - 1s 3ms/step\n",
      "              precision    recall  f1-score   support\n",
      "\n",
      "           0       0.78      0.85      0.81      7089\n",
      "           1       0.84      0.77      0.81      7338\n",
      "\n",
      "    accuracy                           0.81     14427\n",
      "   macro avg       0.81      0.81      0.81     14427\n",
      "weighted avg       0.81      0.81      0.81     14427\n",
      "\n"
     ]
    }
   ],
   "source": [
    "pred=base_model.predict(X_test)\n",
    "y_pred=np.argmax(pred, axis=1)\n",
    "print(classification_report(y_test, y_pred))"
   ]
  },
  {
   "cell_type": "code",
   "execution_count": 11,
   "id": "ec80df12-4d0b-4708-a510-df2f26bb45f7",
   "metadata": {},
   "outputs": [
    {
     "data": {
      "text/plain": [
       "<sklearn.metrics._plot.confusion_matrix.ConfusionMatrixDisplay at 0x7f58cc7e05b0>"
      ]
     },
     "execution_count": 11,
     "metadata": {},
     "output_type": "execute_result"
    },
    {
     "data": {
      "image/png": "[encoded data removed]",
      "text/plain": [
       "<Figure size 504x504 with 2 Axes>"
      ]
     },
     "metadata": {
      "needs_background": "light"
     },
     "output_type": "display_data"
    }
   ],
   "source": [
    "fig, ax = plt.subplots(ncols = 1, nrows = 1, figsize  = (7, 7))\n",
    "ax.spines['right'].set_visible(False)\n",
    "ax.spines['top'].set_visible(False)\n",
    "ax.spines['bottom'].set_visible(False)\n",
    "ax.spines['left'].set_visible(False)\n",
    "ax.tick_params(axis='both', which='major', labelsize=12)\n",
    "ConfusionMatrixDisplay.from_predictions(y_test, y_pred, normalize='true', cmap='Blues', ax=ax)\n",
    "#plt.savefig(\"cf_matrixb.svg\",bbox_inches='tight')"
   ]
  },
  {
   "cell_type": "markdown",
   "id": "1da57ba4-8c3c-4e7f-962d-0080fe50f355",
   "metadata": {},
   "source": [
    "# Ottimizzazione degli iperparametri con Hyperband\n",
    "## 1. vectorize_layer\n",
    "\n",
    "Definisco un layer di vettorizzazione con un vocabolario di massimo 3000 elementi\n",
    "\n",
    "## 2. build_model\n",
    "\n",
    "Definisco una funzione che restituisce un modello sulla base degli iperparametri passati dal tuner\n",
    "\n",
    "## 3. Callbacks\n",
    "\n",
    "Imposto delle condizioni per l'early stopping\n",
    "\n",
    "## 4. Tuner\n",
    "\n",
    "Definisco un tuner basato sull'algoritmo Hyperband implementato in Keras_tuner"
   ]
  },
  {
   "cell_type": "code",
   "execution_count": 12,
   "id": "50aa095c-acad-4251-a109-b8155d561c32",
   "metadata": {},
   "outputs": [
    {
     "name": "stdout",
     "output_type": "stream",
     "text": [
      "INFO:tensorflow:Reloading Oracle from existing project log/keras_tuning/oracle.json\n"
     ]
    },
    {
     "name": "stderr",
     "output_type": "stream",
     "text": [
      "INFO:tensorflow:Reloading Oracle from existing project log/keras_tuning/oracle.json\n"
     ]
    },
    {
     "name": "stdout",
     "output_type": "stream",
     "text": [
      "INFO:tensorflow:Reloading Tuner from log/keras_tuning/tuner0.json\n"
     ]
    },
    {
     "name": "stderr",
     "output_type": "stream",
     "text": [
      "INFO:tensorflow:Reloading Tuner from log/keras_tuning/tuner0.json\n"
     ]
    },
    {
     "name": "stdout",
     "output_type": "stream",
     "text": [
      "Search space summary\n",
      "Default search space size: 5\n",
      "dense_layers (Int)\n",
      "{'default': None, 'conditions': [], 'min_value': 1, 'max_value': 3, 'step': 1, 'sampling': None}\n",
      "units_0 (Int)\n",
      "{'default': None, 'conditions': [], 'min_value': 10, 'max_value': 100, 'step': 10, 'sampling': None}\n",
      "dropout (Boolean)\n",
      "{'default': False, 'conditions': []}\n",
      "units_1 (Int)\n",
      "{'default': None, 'conditions': [], 'min_value': 10, 'max_value': 100, 'step': 10, 'sampling': None}\n",
      "units_2 (Int)\n",
      "{'default': None, 'conditions': [], 'min_value': 10, 'max_value': 100, 'step': 10, 'sampling': None}\n"
     ]
    }
   ],
   "source": [
    "vectorize_layer=TextVectorization(max_tokens=3000, output_mode='binary')\n",
    "vectorize_layer.adapt(X_train)\n",
    "\n",
    "def build_model(hp):\n",
    "    model = keras.Sequential()\n",
    "    model.add(tf.keras.Input(shape=(1), dtype=tf.string))\n",
    "    model.add(vectorize_layer)\n",
    "    for i in range(hp.Int('dense_layers', 1, 3)):\n",
    "        units=hp.Int(f'units_{i}', min_value=10, max_value=100, step=10)\n",
    "        if hp.Boolean('dropout'):\n",
    "            model.add(keras.layers.Dropout(0.5))\n",
    "        model.add(keras.layers.Dense(units=units, activation='relu', name=f'dense_{i}'))\n",
    "    model.add(tf.keras.layers.Dense(2, activation='softmax', name='output'))\n",
    "    \n",
    "    \n",
    "    model.compile(\n",
    "        optimizer='adam',\n",
    "        loss=keras.losses.SparseCategoricalCrossentropy(),\n",
    "        metrics=keras.metrics.SparseCategoricalAccuracy()\n",
    "   )\n",
    "    \n",
    "    return model\n",
    "\n",
    "callbacks=[\n",
    "    tf.keras.callbacks.EarlyStopping(\n",
    "        monitor='val_sparse_categorical_accuracy',\n",
    "        min_delta=0.01,\n",
    "        patience=3,\n",
    "        restore_best_weights=True\n",
    "    )\n",
    "]\n",
    "tuner = kt.Hyperband(build_model,\n",
    "                     objective='val_sparse_categorical_accuracy',\n",
    "                     max_epochs=15,\n",
    "                     factor=3,\n",
    "                     seed=42,\n",
    "                     directory='log',\n",
    "                     project_name='keras_tuning'\n",
    "                     )\n",
    "\n",
    "tuner.search_space_summary()"
   ]
  },
  {
   "cell_type": "markdown",
   "id": "5fd417c3-a996-4ad0-8d2d-a9663cbc9c95",
   "metadata": {},
   "source": [
    "## Esecuzione ottimizzazione"
   ]
  },
  {
   "cell_type": "code",
   "execution_count": 13,
   "id": "9073e104-c24f-4c86-9c8b-fee9fb431845",
   "metadata": {},
   "outputs": [
    {
     "name": "stdout",
     "output_type": "stream",
     "text": [
      "INFO:tensorflow:Oracle triggered exit\n"
     ]
    },
    {
     "name": "stderr",
     "output_type": "stream",
     "text": [
      "INFO:tensorflow:Oracle triggered exit\n"
     ]
    }
   ],
   "source": [
    "tuner.search(X_train, y_train, epochs=15, validation_split=0.2, callbacks=callbacks, batch_size=64)\n",
    "\n",
    "# Get the optimal hyperparameters\n",
    "best_hps=tuner.get_best_hyperparameters(num_trials=1)[0]"
   ]
  },
  {
   "cell_type": "code",
   "execution_count": 14,
   "id": "9607160e-b4ab-4d35-9fda-90319e21efcc",
   "metadata": {},
   "outputs": [
    {
     "data": {
      "text/plain": [
       "{'dense_layers': 2,\n",
       " 'units_0': 90,\n",
       " 'dropout': False,\n",
       " 'units_1': 20,\n",
       " 'tuner/epochs': 15,\n",
       " 'tuner/initial_epoch': 5,\n",
       " 'tuner/bracket': 2,\n",
       " 'tuner/round': 2,\n",
       " 'tuner/trial_id': '0013'}"
      ]
     },
     "execution_count": 14,
     "metadata": {},
     "output_type": "execute_result"
    }
   ],
   "source": [
    "best_hps.values"
   ]
  },
  {
   "cell_type": "markdown",
   "id": "f66328d8-3d70-483e-8eeb-0efcd3ce0cb4",
   "metadata": {},
   "source": [
    "## Addestramento modello finale utilizzando gli iperparametri selezionati"
   ]
  },
  {
   "cell_type": "code",
   "execution_count": 15,
   "id": "7aed7e7e-f447-46c9-b7c5-188b904765cf",
   "metadata": {},
   "outputs": [
    {
     "name": "stdout",
     "output_type": "stream",
     "text": [
      "Epoch 1/50\n",
      "722/722 [==============================] - 8s 10ms/step - loss: 0.1213 - sparse_categorical_accuracy: 0.9577 - val_loss: 0.0759 - val_sparse_categorical_accuracy: 0.9743\n",
      "Epoch 2/50\n",
      "722/722 [==============================] - 7s 9ms/step - loss: 0.0439 - sparse_categorical_accuracy: 0.9843 - val_loss: 0.0703 - val_sparse_categorical_accuracy: 0.9766\n",
      "Epoch 3/50\n",
      "722/722 [==============================] - 6s 9ms/step - loss: 0.0192 - sparse_categorical_accuracy: 0.9937 - val_loss: 0.0761 - val_sparse_categorical_accuracy: 0.9755\n",
      "Epoch 4/50\n",
      "722/722 [==============================] - 6s 9ms/step - loss: 0.0088 - sparse_categorical_accuracy: 0.9972 - val_loss: 0.1144 - val_sparse_categorical_accuracy: 0.9739\n"
     ]
    }
   ],
   "source": [
    "final_model = tuner.hypermodel.build(best_hps)\n",
    "history = final_model.fit(X_train, y_train, epochs=50, validation_split=0.2, callbacks=callbacks, batch_size=64)"
   ]
  },
  {
   "cell_type": "code",
   "execution_count": 16,
   "id": "3f6ad4cb-d864-4e2f-981e-331e063b23c6",
   "metadata": {},
   "outputs": [
    {
     "name": "stderr",
     "output_type": "stream",
     "text": [
      "WARNING:absl:Found untraced functions such as _update_step_xla while saving (showing 1 of 1). These functions will not be directly callable after loading.\n"
     ]
    },
    {
     "name": "stdout",
     "output_type": "stream",
     "text": [
      "INFO:tensorflow:Assets written to: final_model.tf/assets\n"
     ]
    },
    {
     "name": "stderr",
     "output_type": "stream",
     "text": [
      "INFO:tensorflow:Assets written to: final_model.tf/assets\n"
     ]
    }
   ],
   "source": [
    "final_model.save('final_model.tf')\n",
    "final_model = keras.models.load_model('final_model.tf')"
   ]
  },
  {
   "cell_type": "code",
   "execution_count": 17,
   "id": "ba8ecae2-a291-4775-8268-ed39a3a6a0ec",
   "metadata": {},
   "outputs": [
    {
     "name": "stdout",
     "output_type": "stream",
     "text": [
      "Model: \"sequential_2\"\n",
      "_________________________________________________________________\n",
      " Layer (type)                Output Shape              Param #   \n",
      "=================================================================\n",
      " text_vectorization_1 (TextV  (None, 3000)             0         \n",
      " ectorization)                                                   \n",
      "                                                                 \n",
      " dense_0 (Dense)             (None, 90)                270090    \n",
      "                                                                 \n",
      " dense_1 (Dense)             (None, 20)                1820      \n",
      "                                                                 \n",
      " output (Dense)              (None, 2)                 42        \n",
      "                                                                 \n",
      "=================================================================\n",
      "Total params: 271,952\n",
      "Trainable params: 271,952\n",
      "Non-trainable params: 0\n",
      "_________________________________________________________________\n"
     ]
    }
   ],
   "source": [
    "final_model.summary()"
   ]
  },
  {
   "cell_type": "code",
   "execution_count": 18,
   "id": "673eeeed-dc65-4c63-b5c3-9fea6869fe21",
   "metadata": {},
   "outputs": [
    {
     "data": {
      "text/plain": [
       "<matplotlib.legend.Legend at 0x7f58cbe1c4c0>"
      ]
     },
     "execution_count": 18,
     "metadata": {},
     "output_type": "execute_result"
    },
    {
     "data": {
      "image/png": "[encoded data removed]",
      "text/plain": [
       "<Figure size 504x504 with 1 Axes>"
      ]
     },
     "metadata": {
      "needs_background": "light"
     },
     "output_type": "display_data"
    }
   ],
   "source": [
    "fig, ax = plt.subplots(ncols = 1, nrows = 1, figsize  = (7, 7))\n",
    "ax.spines['right'].set_visible(False)\n",
    "ax.spines['top'].set_visible(False)\n",
    "ax.spines['bottom'].set_visible(False)\n",
    "ax.spines['left'].set_visible(False)\n",
    "ax.tick_params(axis='both', which='major', labelsize=12)\n",
    "sns.scatterplot(x=history.epoch ,y=history.history['sparse_categorical_accuracy'], label='training')\n",
    "sns.scatterplot(x=history.epoch ,y=history.history['val_sparse_categorical_accuracy'], color='red', label='validation')\n",
    "ax.legend()\n",
    "#plt.savefig(\"history.svg\",bbox_inches='tight')"
   ]
  },
  {
   "cell_type": "markdown",
   "id": "8576961a-6db5-4fc8-88ab-4aaad16dfd11",
   "metadata": {},
   "source": [
    "## Analisi prestazioni del modello di finale sui dati di test\n",
    "\n",
    "- classification_report\n",
    "- matrice di confusione"
   ]
  },
  {
   "cell_type": "code",
   "execution_count": 19,
   "id": "4b4e6dcc-a7c5-49a0-880f-7618908e4592",
   "metadata": {},
   "outputs": [
    {
     "name": "stdout",
     "output_type": "stream",
     "text": [
      "451/451 [==============================] - 2s 3ms/step\n",
      "              precision    recall  f1-score   support\n",
      "\n",
      "           0       0.98      0.97      0.97      7089\n",
      "           1       0.97      0.98      0.97      7338\n",
      "\n",
      "    accuracy                           0.97     14427\n",
      "   macro avg       0.97      0.97      0.97     14427\n",
      "weighted avg       0.97      0.97      0.97     14427\n",
      "\n"
     ]
    }
   ],
   "source": [
    "pred=final_model.predict(X_test)\n",
    "y_pred=np.argmax(pred, axis=1)\n",
    "print(classification_report(y_test, y_pred))"
   ]
  },
  {
   "cell_type": "code",
   "execution_count": 20,
   "id": "045098a7-b90f-4754-8962-0b95b87b0b62",
   "metadata": {},
   "outputs": [
    {
     "data": {
      "text/plain": [
       "<sklearn.metrics._plot.confusion_matrix.ConfusionMatrixDisplay at 0x7f58cbe1c3d0>"
      ]
     },
     "execution_count": 20,
     "metadata": {},
     "output_type": "execute_result"
    },
    {
     "data": {
      "image/png": "[encoded data removed]",
      "text/plain": [
       "<Figure size 504x504 with 2 Axes>"
      ]
     },
     "metadata": {
      "needs_background": "light"
     },
     "output_type": "display_data"
    }
   ],
   "source": [
    "fig, ax = plt.subplots(ncols = 1, nrows = 1, figsize  = (7, 7))\n",
    "ax.spines['right'].set_visible(False)\n",
    "ax.spines['top'].set_visible(False)\n",
    "ax.spines['bottom'].set_visible(False)\n",
    "ax.spines['left'].set_visible(False)\n",
    "ax.tick_params(axis='both', which='major', labelsize=12)\n",
    "ConfusionMatrixDisplay.from_predictions(y_test, y_pred, normalize='true', cmap='Blues', ax=ax)\n",
    "#plt.savefig(\"cf_matrix.svg\",bbox_inches='tight')"
   ]
  },
  {
   "cell_type": "code",
   "execution_count": null,
   "id": "3b19e2c1-8445-4f3a-97c2-d921756840df",
   "metadata": {},
   "outputs": [],
   "source": []
  }
 ],
 "metadata": {
  "kernelspec": {
   "display_name": "Python 3 (ipykernel)",
   "language": "python",
   "name": "python3"
  },
  "language_info": {
   "codemirror_mode": {
    "name": "ipython",
    "version": 3
   },
   "file_extension": ".py",
   "mimetype": "text/x-python",
   "name": "python",
   "nbconvert_exporter": "python",
   "pygments_lexer": "ipython3",
   "version": "3.10.4"
  }
 },
 "nbformat": 4,
 "nbformat_minor": 5
}
